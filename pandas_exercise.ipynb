{
 "cells": [
  {
   "cell_type": "markdown",
   "metadata": {},
   "source": [
    "### Analysis Plan"
   ]
  },
  {
   "cell_type": "markdown",
   "metadata": {},
   "source": [
    "1) How many are '.'s in each year in the fte file?  \n",
    "2) What are the average and sum FTE for each department and program.  \n",
    "3) Do the department names from the two files match?  \n",
    "4) Make dates comparable between both files.  \n",
    "5) Drop unnecessary dates from ssa.  \n",
    "6) Is there are correlation between FTE and number of indeterminate employees? "
   ]
  },
  {
   "cell_type": "markdown",
   "metadata": {},
   "source": [
    "## Import packages and files"
   ]
  },
  {
   "cell_type": "code",
   "execution_count": null,
   "metadata": {},
   "outputs": [],
   "source": [
    "import pandas as pd\n",
    "import numpy as np\n",
    "from datetime import datetime\n",
    "import csv\n",
    "\n",
    "# Run \"pip install numpy\" in a terminal to get the numpy package\n",
    "# You may or may not have to do the same thing with the datetime package.\n",
    " # Try to import it and see whether or not you get an error\n",
    "\n",
    "fte = pd.read_csv('ftebp-eng.csv')\n",
    "ssa = pd.read_csv('ssa-pop1-eng.csv')"
   ]
  },
  {
   "cell_type": "markdown",
   "metadata": {},
   "source": [
    "## 1) How many are '.'s in each year in the fte file?"
   ]
  },
  {
   "cell_type": "markdown",
   "metadata": {},
   "source": [
    "### Introducing list slicing"
   ]
  },
  {
   "cell_type": "code",
   "execution_count": null,
   "metadata": {
    "scrolled": true
   },
   "outputs": [],
   "source": [
    "a_list = [1,2,3,4,5]\n",
    "print(a_list[2:])\n",
    "print(a_list[3:4])\n",
    "print(a_list[3:-1])"
   ]
  },
  {
   "cell_type": "markdown",
   "metadata": {},
   "source": [
    "### Using slicing to loop over specific columns"
   ]
  },
  {
   "cell_type": "code",
   "execution_count": null,
   "metadata": {
    "scrolled": true
   },
   "outputs": [],
   "source": [
    "for column in fte.columns[2:]:\n",
    "    dot_count = len(fte[fte[column] == '.'])\n",
    "    print(column, dot_count)"
   ]
  },
  {
   "cell_type": "markdown",
   "metadata": {},
   "source": [
    "## 2) What are the average and sum FTE for each department and program. "
   ]
  },
  {
   "cell_type": "code",
   "execution_count": null,
   "metadata": {},
   "outputs": [],
   "source": [
    "# first, convert values to floats. Can't do math on strings.\n",
    "for column in fte.columns[2:]:\n",
    "    fte[column] = fte[column].replace(\".\", \"0\")\n",
    "    fte[column] = fte[column].astype(float)"
   ]
  },
  {
   "cell_type": "code",
   "execution_count": null,
   "metadata": {},
   "outputs": [],
   "source": [
    "fte.groupby(['Department']).sum()"
   ]
  },
  {
   "cell_type": "code",
   "execution_count": null,
   "metadata": {},
   "outputs": [],
   "source": [
    "fte.groupby(['Department']).mean()"
   ]
  },
  {
   "cell_type": "markdown",
   "metadata": {},
   "source": [
    "## 3) Do the department names from the two files match?"
   ]
  },
  {
   "cell_type": "code",
   "execution_count": null,
   "metadata": {},
   "outputs": [],
   "source": [
    "# get unique lists of department names for each file\n",
    "ssa_dept_names = ssa['Departments and Agencies'].unique()\n",
    "fte_dept_names = fte['Department'].unique()"
   ]
  },
  {
   "cell_type": "code",
   "execution_count": null,
   "metadata": {},
   "outputs": [],
   "source": [
    "# find names in fte that are not in ssa\n",
    "in_fte_not_ssa = np.setdiff1d(fte_dept_names, ssa_dept_names)\n",
    "\n",
    "# find names in ssa that are not in fte\n",
    "in_ssa_not_fte = np.setdiff1d(ssa_dept_names, fte_dept_names)\n",
    "\n",
    "print(f\"There are {len(in_fte_not_ssa)} names in fte that are not in ssa, and {len(in_ssa_not_fte)} names that are in ssa that aren't in fte\")"
   ]
  },
  {
   "cell_type": "markdown",
   "metadata": {},
   "source": [
    "### Making the names compatible"
   ]
  },
  {
   "cell_type": "code",
   "execution_count": null,
   "metadata": {},
   "outputs": [],
   "source": [
    "# create a dict that can convert fte names to ssa names\n",
    "fte_to_ssa = {}\n",
    "with open('fte_ssa_equivalents.csv', 'r') as f:\n",
    "    reader = csv.reader(f, delimiter=',')\n",
    "    for row in reader:\n",
    "        fte_to_ssa[row[0]] = row[1]"
   ]
  },
  {
   "cell_type": "code",
   "execution_count": null,
   "metadata": {},
   "outputs": [],
   "source": [
    "# convert names in fte to their ssa equivalent\n",
    "# remember, many fte names have no equivalent, and vice versa\n",
    "def fte_dept_to_ssa(department_name):\n",
    "    try:\n",
    "        dept_2 = fte_to_ssa[department_name]\n",
    "    except:\n",
    "        dept_2 = None\n",
    "    return dept_2\n",
    "\n",
    "fte['dept_2'] = fte.apply(lambda x: fte_dept_to_ssa(x['Department']), axis=1)\n",
    "fte = fte[fte['dept_2'].notnull()]\n",
    "fte = fte.drop(['Department', 'Program'], axis=1)\n",
    "# fte now only contains those department for which there was an ssa equivalent.\n",
    "# that is not true of the ssa file."
   ]
  },
  {
   "cell_type": "markdown",
   "metadata": {},
   "source": [
    "### Before we proceed, let's reshape the fte data"
   ]
  },
  {
   "cell_type": "code",
   "execution_count": null,
   "metadata": {},
   "outputs": [],
   "source": [
    "fte = fte.groupby(['dept_2']).sum()"
   ]
  },
  {
   "cell_type": "code",
   "execution_count": null,
   "metadata": {},
   "outputs": [],
   "source": [
    "fte = fte.reset_index()"
   ]
  },
  {
   "cell_type": "code",
   "execution_count": null,
   "metadata": {},
   "outputs": [],
   "source": [
    "fte = fte.melt('dept_2', value_name=\"FTE\")"
   ]
  },
  {
   "cell_type": "code",
   "execution_count": null,
   "metadata": {},
   "outputs": [],
   "source": [
    "fte = fte.rename({\"variable\": \"fy\"}, axis='columns')"
   ]
  },
  {
   "cell_type": "markdown",
   "metadata": {},
   "source": [
    "## 4) Make dates comparable between both files."
   ]
  },
  {
   "cell_type": "markdown",
   "metadata": {},
   "source": [
    "### Introducing datetime\n",
    "refer to this: https://www.programiz.com/python-programming/datetime/strptime  "
   ]
  },
  {
   "cell_type": "code",
   "execution_count": null,
   "metadata": {},
   "outputs": [],
   "source": [
    "# strptime: string parse time (from a string to a datetime object)\n",
    "# strftime: string format time (from a datetime object to a formatted string)\n",
    "sample_date = datetime.strptime(\"201003\",\"%Y%m\")\n",
    "print(sample_date.strftime('%y-%m-%d'))\n",
    "print(sample_date.year)"
   ]
  },
  {
   "cell_type": "code",
   "execution_count": null,
   "metadata": {},
   "outputs": [],
   "source": [
    "# datetime inequality example\n",
    "d1 = datetime.strptime('201104',\"%Y%m\")\n",
    "d2 = datetime.strptime('201603',\"%Y%m\")\n",
    "d1 < d2"
   ]
  },
  {
   "cell_type": "markdown",
   "metadata": {},
   "source": [
    "### Back to modifying dates in ssa"
   ]
  },
  {
   "cell_type": "code",
   "execution_count": null,
   "metadata": {},
   "outputs": [],
   "source": [
    "# store datetime objects in the dataframe\n",
    "ssa['new_date'] = ssa.apply(lambda x: datetime.strptime(str(x['Date']),\"%Y%m\"), axis=1)"
   ]
  },
  {
   "cell_type": "markdown",
   "metadata": {},
   "source": [
    "## 5) Drop unnecessary dates from ssa"
   ]
  },
  {
   "cell_type": "code",
   "execution_count": null,
   "metadata": {},
   "outputs": [],
   "source": [
    "def keep_dates_within_range(row):    \n",
    "    min_date = datetime.strptime('201104',\"%Y%m\")\n",
    "    max_date = datetime.strptime('201603',\"%Y%m\")\n",
    "    row_date = row['new_date']\n",
    "    if row_date >= min_date and row_date <= max_date:\n",
    "        return True\n",
    "    else:\n",
    "        return False\n",
    "    \n",
    "ssa = ssa[ssa.apply(keep_dates_within_range,axis=1)]\n",
    "\n",
    "#TODO: can we return row or None instead of true/false"
   ]
  },
  {
   "cell_type": "markdown",
   "metadata": {},
   "source": [
    "### Add fiscal year column to ssa"
   ]
  },
  {
   "cell_type": "code",
   "execution_count": null,
   "metadata": {
    "scrolled": true
   },
   "outputs": [],
   "source": [
    "# to understand SettingWithCopyWarning, read top answer here:\n",
    "# https://stackoverflow.com/questions/20625582/how-to-deal-with-settingwithcopywarning-in-pandas\n",
    "# it can be ignored here.\n",
    "\n",
    "def determine_fy(year_and_month):\n",
    "    year_and_month = str(year_and_month)\n",
    "    date = datetime.strptime(year_and_month,\"%Y%m\")\n",
    "    y2 = int(str(date.year)[2:])\n",
    "    if date.month >= 4:\n",
    "        fy = f\"FTE 20{y2}-{y2+1}\"\n",
    "    else:\n",
    "        fy = f\"FTE 20{y2-1}-{y2}\"\n",
    "    return fy\n",
    "\n",
    "ssa['fy'] = ssa.apply(lambda x: determine_fy(x['Date']), axis=1)"
   ]
  },
  {
   "cell_type": "markdown",
   "metadata": {},
   "source": [
    "## 6) Is there are correlation between FTE and number of indeterminate employees? "
   ]
  },
  {
   "cell_type": "markdown",
   "metadata": {},
   "source": [
    "### Creating a lookup function for indeterminate employees in ssa"
   ]
  },
  {
   "cell_type": "code",
   "execution_count": null,
   "metadata": {},
   "outputs": [],
   "source": [
    "def get_indeterminate_count(fy, department):\n",
    "    row = ssa[(ssa['Departments and Agencies'] == department)\n",
    "              &(ssa['fy'] == fy)\n",
    "              &(ssa['Tenure'] == \"Indeterminate\")]\n",
    "    indeterminate_count = row['Employees'].sum()\n",
    "    return indeterminate_count\n",
    "\n",
    "#get_indeterminate_count('FTE 2015-16', \"Veterans Affairs Canada\")\n",
    "fte['indeterminate'] = fte.apply(lambda x: get_indeterminate_count(x['fy'],x['dept_2']), axis=1)"
   ]
  },
  {
   "cell_type": "markdown",
   "metadata": {},
   "source": [
    "## Figuring out how to test correlation is up to you\n",
    "### use google"
   ]
  }
 ],
 "metadata": {
  "kernelspec": {
   "display_name": "Python 3",
   "language": "python",
   "name": "python3"
  },
  "language_info": {
   "codemirror_mode": {
    "name": "ipython",
    "version": 3
   },
   "file_extension": ".py",
   "mimetype": "text/x-python",
   "name": "python",
   "nbconvert_exporter": "python",
   "pygments_lexer": "ipython3",
   "version": "3.7.4"
  }
 },
 "nbformat": 4,
 "nbformat_minor": 2
}
